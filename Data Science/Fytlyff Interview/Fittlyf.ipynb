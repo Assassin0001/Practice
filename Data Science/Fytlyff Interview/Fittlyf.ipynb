{
 "cells": [
  {
   "cell_type": "markdown",
   "id": "fa7ce91c",
   "metadata": {},
   "source": [
    "## Part 0 : Data Reading"
   ]
  },
  {
   "cell_type": "code",
   "execution_count": 1,
   "id": "319bd478",
   "metadata": {},
   "outputs": [],
   "source": [
    "import pandas as pd\n",
    "import numpy as np\n",
    "import matplotlib.pyplot as plt\n",
    "import seaborn as sns"
   ]
  },
  {
   "cell_type": "markdown",
   "id": "495a0451",
   "metadata": {},
   "source": [
    "### Task A"
   ]
  },
  {
   "cell_type": "code",
   "execution_count": 7,
   "id": "76995782",
   "metadata": {},
   "outputs": [
    {
     "data": {
      "text/html": [
       "<div>\n",
       "<style scoped>\n",
       "    .dataframe tbody tr th:only-of-type {\n",
       "        vertical-align: middle;\n",
       "    }\n",
       "\n",
       "    .dataframe tbody tr th {\n",
       "        vertical-align: top;\n",
       "    }\n",
       "\n",
       "    .dataframe thead th {\n",
       "        text-align: right;\n",
       "    }\n",
       "</style>\n",
       "<table border=\"1\" class=\"dataframe\">\n",
       "  <thead>\n",
       "    <tr style=\"text-align: right;\">\n",
       "      <th></th>\n",
       "      <th>Year</th>\n",
       "      <th>Month</th>\n",
       "      <th>Laptop/Desktop</th>\n",
       "      <th>Type_of_Customers?</th>\n",
       "      <th>Coming from</th>\n",
       "      <th>Place_in_India</th>\n",
       "      <th>Level 1</th>\n",
       "      <th>Level 2</th>\n",
       "      <th>Level 3</th>\n",
       "      <th>Level 4</th>\n",
       "    </tr>\n",
       "  </thead>\n",
       "  <tbody>\n",
       "    <tr>\n",
       "      <th>0</th>\n",
       "      <td>2020</td>\n",
       "      <td>Jan</td>\n",
       "      <td>Desktop_Website</td>\n",
       "      <td>Existing_Customer</td>\n",
       "      <td>Came_From_LinkedIn</td>\n",
       "      <td>Bengaluru</td>\n",
       "      <td>NaN</td>\n",
       "      <td>NaN</td>\n",
       "      <td>56892</td>\n",
       "      <td>17178</td>\n",
       "    </tr>\n",
       "    <tr>\n",
       "      <th>1</th>\n",
       "      <td>2020</td>\n",
       "      <td>Jan</td>\n",
       "      <td>Desktop_Website</td>\n",
       "      <td>Existing_Customer</td>\n",
       "      <td>Came_From_LinkedIn</td>\n",
       "      <td>Hyderabad</td>\n",
       "      <td>NaN</td>\n",
       "      <td>NaN</td>\n",
       "      <td>41460</td>\n",
       "      <td>11916</td>\n",
       "    </tr>\n",
       "    <tr>\n",
       "      <th>2</th>\n",
       "      <td>2020</td>\n",
       "      <td>Jan</td>\n",
       "      <td>Desktop_Website</td>\n",
       "      <td>Existing_Customer</td>\n",
       "      <td>Came_From_LinkedIn</td>\n",
       "      <td>Dehradun</td>\n",
       "      <td>NaN</td>\n",
       "      <td>NaN</td>\n",
       "      <td>55561</td>\n",
       "      <td>19461</td>\n",
       "    </tr>\n",
       "    <tr>\n",
       "      <th>3</th>\n",
       "      <td>2020</td>\n",
       "      <td>Jan</td>\n",
       "      <td>Desktop_Website</td>\n",
       "      <td>Existing_Customer</td>\n",
       "      <td>Came_From_LinkedIn</td>\n",
       "      <td>Indore</td>\n",
       "      <td>NaN</td>\n",
       "      <td>NaN</td>\n",
       "      <td>320923</td>\n",
       "      <td>110667</td>\n",
       "    </tr>\n",
       "    <tr>\n",
       "      <th>4</th>\n",
       "      <td>2020</td>\n",
       "      <td>Jan</td>\n",
       "      <td>Desktop_Website</td>\n",
       "      <td>Existing_Customer</td>\n",
       "      <td>Came_From_LinkedIn</td>\n",
       "      <td>Pune</td>\n",
       "      <td>NaN</td>\n",
       "      <td>NaN</td>\n",
       "      <td>220937</td>\n",
       "      <td>46033</td>\n",
       "    </tr>\n",
       "  </tbody>\n",
       "</table>\n",
       "</div>"
      ],
      "text/plain": [
       "   Year Month   Laptop/Desktop Type_of_Customers?         Coming from  \\\n",
       "0  2020   Jan  Desktop_Website  Existing_Customer  Came_From_LinkedIn   \n",
       "1  2020   Jan  Desktop_Website  Existing_Customer  Came_From_LinkedIn   \n",
       "2  2020   Jan  Desktop_Website  Existing_Customer  Came_From_LinkedIn   \n",
       "3  2020   Jan  Desktop_Website  Existing_Customer  Came_From_LinkedIn   \n",
       "4  2020   Jan  Desktop_Website  Existing_Customer  Came_From_LinkedIn   \n",
       "\n",
       "  Place_in_India  Level 1  Level 2  Level 3  Level 4  \n",
       "0      Bengaluru      NaN      NaN    56892    17178  \n",
       "1      Hyderabad      NaN      NaN    41460    11916  \n",
       "2       Dehradun      NaN      NaN    55561    19461  \n",
       "3         Indore      NaN      NaN   320923   110667  \n",
       "4           Pune      NaN      NaN   220937    46033  "
      ]
     },
     "execution_count": 7,
     "metadata": {},
     "output_type": "execute_result"
    }
   ],
   "source": [
    "df=pd.read_csv('DS_Interview.csv')\n",
    "df.head()"
   ]
  },
  {
   "cell_type": "markdown",
   "id": "98787fcf",
   "metadata": {},
   "source": [
    "### Task B"
   ]
  },
  {
   "cell_type": "code",
   "execution_count": 8,
   "id": "18d99865",
   "metadata": {
    "scrolled": true
   },
   "outputs": [
    {
     "data": {
      "text/plain": [
       "Year                    int64\n",
       "Month                  object\n",
       "Laptop/Desktop         object\n",
       "Type_of_Customers?     object\n",
       "Coming from            object\n",
       "Place_in_India         object\n",
       "Level 1               float64\n",
       "Level 2               float64\n",
       "Level 3                 int64\n",
       "Level 4                 int64\n",
       "dtype: object"
      ]
     },
     "execution_count": 8,
     "metadata": {},
     "output_type": "execute_result"
    }
   ],
   "source": [
    "df.dtypes"
   ]
  },
  {
   "cell_type": "markdown",
   "id": "0021da31",
   "metadata": {},
   "source": [
    "### Task C"
   ]
  },
  {
   "cell_type": "code",
   "execution_count": 5,
   "id": "f22f3088",
   "metadata": {},
   "outputs": [
    {
     "data": {
      "text/plain": [
       "Dehradun     432\n",
       "Hyderabad    432\n",
       "Pune         432\n",
       "Indore       432\n",
       "Bengaluru    432\n",
       "Name: Place_in_India, dtype: int64"
      ]
     },
     "execution_count": 5,
     "metadata": {},
     "output_type": "execute_result"
    }
   ],
   "source": [
    "df['Place_in_India'].value_counts()"
   ]
  },
  {
   "cell_type": "markdown",
   "id": "8a6382e5",
   "metadata": {},
   "source": [
    "### Task D"
   ]
  },
  {
   "cell_type": "code",
   "execution_count": 10,
   "id": "549b7b7a",
   "metadata": {},
   "outputs": [
    {
     "data": {
      "text/plain": [
       "Year                     0\n",
       "Month                    0\n",
       "Laptop/Desktop           0\n",
       "Type_of_Customers?       0\n",
       "Coming from              0\n",
       "Place_in_India           0\n",
       "Level 1               1079\n",
       "Level 2               1079\n",
       "Level 3                  0\n",
       "Level 4                  0\n",
       "dtype: int64"
      ]
     },
     "execution_count": 10,
     "metadata": {},
     "output_type": "execute_result"
    }
   ],
   "source": [
    "df.isnull().sum()"
   ]
  },
  {
   "cell_type": "code",
   "execution_count": 11,
   "id": "8a1d7004",
   "metadata": {},
   "outputs": [
    {
     "data": {
      "text/plain": [
       "Unidentified_Sources    720\n",
       "Landed_Directly         720\n",
       "Came_From_LinkedIn      720\n",
       "Name: Coming from, dtype: int64"
      ]
     },
     "execution_count": 11,
     "metadata": {},
     "output_type": "execute_result"
    }
   ],
   "source": [
    "df['Coming from'].value_counts()"
   ]
  },
  {
   "cell_type": "code",
   "execution_count": 12,
   "id": "a2cfe9c1",
   "metadata": {},
   "outputs": [
    {
     "data": {
      "text/plain": [
       "Existing_Customer    1080\n",
       "New_Customer         1080\n",
       "Name: Type_of_Customers?, dtype: int64"
      ]
     },
     "execution_count": 12,
     "metadata": {},
     "output_type": "execute_result"
    }
   ],
   "source": [
    "df['Type_of_Customers?'].value_counts()"
   ]
  },
  {
   "cell_type": "markdown",
   "id": "ca2ba23c",
   "metadata": {},
   "source": [
    "### Task D contd.\n",
    "\n",
    "This dataset may be assumed to belonging to Company that is currently trying to adapt to market. The Company only has customer base in few cities like Pune, Dehradun, Bengaluru, Indore & Hyderabad. It uses LinkedIn mostly for its marketing. Although, It also has quite good response from other unidentified sources. It provides different services across India. It helps me conclude that it is mainly EdTech or Health & Wellness Startup.\n",
    "\n",
    "Under the assumption that this dataset can be from Flipkart , I think levels might represent levels of customers of company.     \n",
    "It is observed that there is no data for Existence Customers in Level 1 & Level 2."
   ]
  },
  {
   "cell_type": "markdown",
   "id": "c08a9ea7",
   "metadata": {},
   "source": [
    "### Task E"
   ]
  },
  {
   "cell_type": "code",
   "execution_count": 19,
   "id": "18ae7c2d",
   "metadata": {},
   "outputs": [
    {
     "data": {
      "text/plain": [
       "Year  Month  Laptop/Desktop   Type_of_Customers?  Coming from         Place_in_India  Level 1   Level 2   Level 3  Level 4\n",
       "2020  Apr    Desktop_Website  New_Customer        Came_From_LinkedIn  Pune            335205.0  259989.0  137750   97733      1\n",
       "             Laptop_Website   New_Customer        Came_From_LinkedIn  Pune            514611.0  338502.0  169384   122740     1\n",
       "2022  Dec    Desktop_Website  New_Customer        Came_From_LinkedIn  Pune            324090.0  168545.0  83423    56517      1\n",
       "      Aug    Laptop_Website   New_Customer        Came_From_LinkedIn  Pune            432377.0  230944.0  94781    59242      1\n",
       "             Desktop_Website  New_Customer        Came_From_LinkedIn  Pune            313142.0  166001.0  83818    58235      1\n",
       "                                                                                                                             ..\n",
       "2020  Sep    Laptop_Website   New_Customer        Came_From_LinkedIn  Pune            377626.0  266143.0  123408   83576      1\n",
       "             Desktop_Website  New_Customer        Came_From_LinkedIn  Pune            264944.0  199691.0  99755    67906      1\n",
       "      Oct    Laptop_Website   New_Customer        Came_From_LinkedIn  Pune            489665.0  345076.0  164313   110836     1\n",
       "             Desktop_Website  New_Customer        Came_From_LinkedIn  Pune            351818.0  261724.0  127922   84424      1\n",
       "2022  Sep    Laptop_Website   New_Customer        Came_From_LinkedIn  Pune            398733.0  208608.0  84518    52930      1\n",
       "Length: 72, dtype: int64"
      ]
     },
     "execution_count": 19,
     "metadata": {},
     "output_type": "execute_result"
    }
   ],
   "source": [
    "df[(df['Type_of_Customers?'] == 'New_Customer') & (df['Place_in_India'] == 'Pune') & (df['Coming from'] == 'Came_From_LinkedIn')].value_counts()"
   ]
  },
  {
   "cell_type": "markdown",
   "id": "ea01a136",
   "metadata": {},
   "source": [
    "## Part 1 : Data Cleaning"
   ]
  },
  {
   "cell_type": "code",
   "execution_count": 20,
   "id": "7af6bb54",
   "metadata": {},
   "outputs": [],
   "source": [
    "def data_cleaning():\n",
    "    df['inc/dec percentage'] = (df['Level 1']-df['Level 4'])/df['Level 1'] * 100\n",
    "    df['Month'].apply()\n",
    "    df['Coming from'].replace([\"Came_From_LinkedIn\",\"Landed_directly\"],[\"From LinkedIn\",\"Direct_traffic\"],inplace=True)"
   ]
  },
  {
   "cell_type": "code",
   "execution_count": 28,
   "id": "328040e4",
   "metadata": {},
   "outputs": [],
   "source": [
    "df['Coming from'].replace([\"Came_From_LinkedIn\",\"Landed_directly\"],[\"From LinkedIn\",\"Direct_traffic\"],inplace=True)"
   ]
  },
  {
   "cell_type": "markdown",
   "id": "1ffe02f2",
   "metadata": {},
   "source": [
    "## Part 2 : Descriptive Statistics"
   ]
  },
  {
   "cell_type": "code",
   "execution_count": null,
   "id": "4e85e0eb",
   "metadata": {},
   "outputs": [],
   "source": [
    "def descriptive_stats():\n",
    "    "
   ]
  }
 ],
 "metadata": {
  "kernelspec": {
   "display_name": "Python 3",
   "language": "python",
   "name": "python3"
  },
  "language_info": {
   "codemirror_mode": {
    "name": "ipython",
    "version": 3
   },
   "file_extension": ".py",
   "mimetype": "text/x-python",
   "name": "python",
   "nbconvert_exporter": "python",
   "pygments_lexer": "ipython3",
   "version": "3.8.8"
  }
 },
 "nbformat": 4,
 "nbformat_minor": 5
}
